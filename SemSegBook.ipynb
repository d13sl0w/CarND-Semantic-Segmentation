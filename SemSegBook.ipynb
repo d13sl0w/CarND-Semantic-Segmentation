{
 "cells": [
  {
   "cell_type": "code",
   "execution_count": null,
   "metadata": {},
   "outputs": [],
   "source": [
    "import os.path\n",
    "import tensorflow as tf\n",
    "import helper\n",
    "from pprint import pprint\n",
    "import warnings\n",
    "from distutils.version import LooseVersion\n",
    "import project_tests as tests\n",
    "import matplotlib.pyplot as plt"
   ]
  },
  {
   "cell_type": "code",
   "execution_count": null,
   "metadata": {},
   "outputs": [],
   "source": [
    "%matplotlib inline"
   ]
  },
  {
   "cell_type": "code",
   "execution_count": null,
   "metadata": {},
   "outputs": [],
   "source": [
    "# Check TensorFlow Version\n",
    "assert LooseVersion(tf.__version__) >= LooseVersion('1.0'), 'Please use TensorFlow version 1.0 or newer.  You are using {}'.format(tf.__version__)\n",
    "print('TensorFlow Version: {}'.format(tf.__version__))"
   ]
  },
  {
   "cell_type": "code",
   "execution_count": null,
   "metadata": {},
   "outputs": [],
   "source": [
    "# Check for a GPU\n",
    "if not tf.test.gpu_device_name():\n",
    "    warnings.warn('No GPU found. Please use a GPU to train your neural network.')\n",
    "else:\n",
    "    print('Default GPU Device: {}'.format(tf.test.gpu_device_name()))\n"
   ]
  },
  {
   "cell_type": "code",
   "execution_count": null,
   "metadata": {},
   "outputs": [],
   "source": [
    "def load_vgg(sess, vgg_path):\n",
    "    \"\"\"\n",
    "    Load Pretrained VGG Model into TensorFlow.\n",
    "    :param sess: TensorFlow Session\n",
    "    :param vgg_path: Path to vgg folder, containing \"variables/\" and \"saved_model.pb\"\n",
    "    :return: Tuple of Tensors from VGG model (image_input, keep_prob, layer3_out, layer4_out, layer7_out)\n",
    "    \"\"\"\n",
    "    vgg_tag = 'vgg16' \n",
    "    \n",
    "    tf.saved_model.loader.load(sess, [vgg_tag], vgg_path)\n",
    "    \n",
    "    pprint(sess.graph.get_operations())\n",
    "    \n",
    "    vgg_input_tensor = sess.graph.get_tensor_by_name('image_input:0')\n",
    "    vgg_keep_prob_tensor = sess.graph.get_tensor_by_name('keep_prob:0')\n",
    "    vgg_layer3_out_tensor = sess.graph.get_tensor_by_name('layer3_out:0')\n",
    "    vgg_layer4_out_tensor = sess.graph.get_tensor_by_name('layer4_out:0')\n",
    "    vgg_layer7_out_tensor = sess.graph.get_tensor_by_name('layer7_out:0')\n",
    "    \n",
    "    return vgg_input_tensor, vgg_keep_prob_tensor, vgg_layer3_out_tensor, \\\n",
    "            vgg_layer4_out_tensor, vgg_layer7_out_tensor\n",
    "tests.test_load_vgg(load_vgg, tf)"
   ]
  },
  {
   "cell_type": "code",
   "execution_count": null,
   "metadata": {},
   "outputs": [],
   "source": [
    "def layers(vgg_layer3_out, vgg_layer4_out, vgg_layer7_out, num_classes):\n",
    "    \"\"\"\n",
    "    Create the layers for a fully convolutional network.  Build skip-layers using the vgg layers.\n",
    "    :param vgg_layer7_out: TF Tensor for VGG Layer 3 output\n",
    "    :param vgg_layer4_out: TF Tensor for VGG Layer 4 output\n",
    "    :param vgg_layer3_out: TF Tensor for VGG Layer 7 output\n",
    "    :param num_classes: Number of classes to classify\n",
    "    :return: The Tensor for the last layer of output\n",
    "    \"\"\"\n",
    "    with tf.variable_scope('decoder_layer_0'):\n",
    "        # 1x1 conv - resample for our class number in depth\n",
    "        resampled_vgg_7 = tf.layers.conv2d(inputs=vgg_layer7_out, \n",
    "                                            filters=num_classes,\n",
    "                                            kernel_size=(1, 1),\n",
    "                                            padding='same',\n",
    "                                            name='resampled_vgg_7')\n",
    "        \n",
    "        \n",
    "    with tf.variable_scope('decoder_layer_1'):\n",
    "        # trans-conv - upsample with fractionally strided conv\n",
    "        upsampled_vgg_7_to_4 = tf.layers.conv2d_transpose(inputs=resampled_vgg_7,\n",
    "                                                          filters=num_classes,\n",
    "                                                          kernel_size=(4, 4),\n",
    "                                                          strides=(2,2),\n",
    "                                                          padding='same',\n",
    "                                                          name='upsampled_vgg_7')\n",
    "        \n",
    "        # 1x1 conv - resample for our class number in depth\n",
    "        resampled_vgg_4 = tf.layers.conv2d(inputs=vgg_layer4_out, \n",
    "                                            filters=num_classes,\n",
    "                                            kernel_size=(1, 1),\n",
    "                                            padding='same',\n",
    "                                            name='resampled_vgg_4')\n",
    "        \n",
    "        # skip connection - combine with mid-granularity encoding layer\n",
    "        decoder_layer_1 = tf.add(upsampled_vgg_7_to_4, resampled_vgg_4, name='skip_connect_layer_0')\n",
    "        \n",
    "\n",
    "    with tf.variable_scope('decoder_layer_2'):\n",
    "        # trans-conv - upsample with fractionally strided conv\n",
    "        upsampled_vgg_4_to_3 = tf.layers.conv2d_transpose(inputs=decoder_layer_1,\n",
    "                                                          filters=num_classes,\n",
    "                                                          kernel_size=(4, 4),\n",
    "                                                          strides=(2,2),\n",
    "                                                          padding='same',\n",
    "                                                          name='upsampled_vgg_4')\n",
    "        \n",
    "        # 1x1 conv - resample for our class number in depth\n",
    "        resampled_vgg_3 = tf.layers.conv2d(inputs=vgg_layer3_out, \n",
    "                                            filters=num_classes,\n",
    "                                            kernel_size=(1, 1),\n",
    "                                            padding='same',\n",
    "                                            name='resampled_vgg_3')\n",
    "        \n",
    "        # skip connection - combine with mid-granularity encoding layer\n",
    "        decoder_layer_2 = tf.add(upsampled_vgg_4_to_3, resampled_vgg_3, name='skip_connect_layer_1')\n",
    "        \n",
    "\n",
    "    DOUBLINGS_REMAINING = 4\n",
    "    with tf.variable_scope('decoder_layer_3'):\n",
    "        # FINAL UPSAMPLING TO ORIGINAL DIMENSIONS. WHAT IS THE IMPACT OF DOING A \n",
    "        #   MORE AGGRESSIVE UPSAMPLING VS. A SEQUENCE OF SMALLER ONES?\n",
    "        # *** TODO: CREATE FCN LAYER GENERATOR (AT LEAST FOR NON-SKIP CONNECTION \n",
    "        #       LAYERS BASED ON TESTED TENSOR SHAPES FOUND IN RUN() BELOW!***)\n",
    "        upsampled_vgg_3_to_output = tf.layers.conv2d_transpose(inputs=decoder_layer_1,\n",
    "                                                          filters=num_classes,\n",
    "                                                          kernel_size=(4*DOUBLINGS_REMAINING, \n",
    "                                                                       4*DOUBLINGS_REMAINING),\n",
    "                                                          strides=(2*DOUBLINGS_REMAINING,\n",
    "                                                                   2*DOUBLINGS_REMAINING),\n",
    "                                                          padding='same',\n",
    "                                                          name='upsampled_final_output')\n",
    "        \n",
    "    return upsampled_vgg_3_to_output\n",
    "tests.test_layers(layers)"
   ]
  },
  {
   "cell_type": "code",
   "execution_count": 85,
   "metadata": {},
   "outputs": [
    {
     "name": "stdout",
     "output_type": "stream",
     "text": [
      "Tests Passed\n"
     ]
    }
   ],
   "source": [
    "def optimize(nn_last_layer, correct_label, learning_rate, num_classes):\n",
    "    \"\"\"\n",
    "    Build the TensorFLow loss and optimizer operations.\n",
    "    :param nn_last_layer: TF Tensor of the last layer in the neural network\n",
    "    :param correct_label: TF Placeholder for the correct label image\n",
    "    :param learning_rate: TF Placeholder for the learning rate\n",
    "    :param num_classes: Number of classes to classify\n",
    "    :return: Tuple of (logits, train_op, cross_entropy_loss)\n",
    "    \"\"\"\n",
    "    # to int64?\n",
    "    logits = tf.reshape(nn_last_layer, (-1, num_classes))\n",
    "    xentropy = tf.nn.softmax_cross_entropy_with_logits(labels=correct_label, logits=logits)\n",
    "    mean_xentropy_loss = tf.reduce_mean(xentropy, name='mean_xentropy_loss')\n",
    "    tf.summary.scalar('mean_xentropy_loss', mean_xentropy_loss)\n",
    "    optimizer = tf.train.AdamOptimizer(learning_rate)\n",
    "    global_step = tf.Variable(0, name='global_step', trainable=False)\n",
    "    train_op = optimizer.minimize(mean_xentropy_loss, global_step=global_step)\n",
    "    return logits, train_op, mean_xentropy_loss \n",
    "tests.test_optimize(optimize)"
   ]
  },
  {
   "cell_type": "code",
   "execution_count": null,
   "metadata": {},
   "outputs": [],
   "source": [
    "def train_nn(sess, epochs, batch_size, get_batches_fn, train_op, cross_entropy_loss, input_image,\n",
    "             correct_label, keep_prob, learning_rate):\n",
    "    \"\"\"\n",
    "    Train neural network and print out the loss during training.\n",
    "    :param sess: TF Session\n",
    "    :param epochs: Number of epochs\n",
    "    :param batch_size: Batch size\n",
    "    :param get_batches_fn: Function to get batches of training data.  Call using get_batches_fn(batch_size)\n",
    "    :param train_op: TF Operation to train the neural network\n",
    "    :param cross_entropy_loss: TF Tensor for the amount of loss\n",
    "    :param input_image: TF Placeholder for input images\n",
    "    :param correct_label: TF Placeholder for label images\n",
    "    :param keep_prob: TF Placeholder for dropout keep probability\n",
    "    :param learning_rate: TF Placeholder for learning rate\n",
    "    \"\"\"\n",
    "    # TODO: Implement function\n",
    "    pass\n",
    "tests.test_train_nn(train_nn)"
   ]
  },
  {
   "cell_type": "code",
   "execution_count": null,
   "metadata": {},
   "outputs": [],
   "source": [
    "img = plt.imread('./data/data_road/testing/image_2/um_000000.png')\n",
    "plt.imshow(img)\n"
   ]
  },
  {
   "cell_type": "code",
   "execution_count": null,
   "metadata": {},
   "outputs": [],
   "source": [
    "import numpy as np"
   ]
  },
  {
   "cell_type": "code",
   "execution_count": null,
   "metadata": {},
   "outputs": [],
   "source": [
    "np.expand_dims(img, 0).shape"
   ]
  },
  {
   "cell_type": "code",
   "execution_count": null,
   "metadata": {
    "scrolled": true
   },
   "outputs": [],
   "source": [
    "def run():\n",
    "    num_classes = 2\n",
    "    image_shape = (160, 576)\n",
    "    data_dir = './data'\n",
    "    runs_dir = './runs'\n",
    "    tests.test_for_kitti_dataset(data_dir)\n",
    "    # Download pretrained vgg model\n",
    "#     helper.maybe_download_pretrained_vgg(data_dir)\n",
    "\n",
    "    # OPTIONAL: Train and Inference on the cityscapes dataset instead of the Kitti dataset.\n",
    "    # You'll need a GPU with at least 10 teraFLOPS to train on.\n",
    "    #  https://www.cityscapes-dataset.com/\n",
    "    tf.reset_default_graph()\n",
    "    sample = plt.imread('./data/data_road/testing/image_2/um_000000.png')\n",
    "    with tf.Session() as sess:\n",
    "        feed_dict = {\n",
    "            'image_input:0': [img],\n",
    "            'keep_prob:0': 1.\n",
    "        }\n",
    "        # Path to vgg model\n",
    "        vgg_path = os.path.join(data_dir, 'vgg')\n",
    "        vgg_tag = 'vgg16' \n",
    "    \n",
    "\n",
    "\n",
    "\n",
    "    # Create function to get batches\n",
    "#         get_batches_fn = helper.gen_batch_function(os.path.join(data_dir, 'data_road/training'), image_shape)\n",
    "\n",
    "        # OPTIONAL: Augment Images for better results\n",
    "        #  https://datascience.stackexchange.com/questions/5224/how-to-prepare-augment-images-for-neural-network\n",
    "\n",
    "        # TODO: Build NN using load_vgg, layers, and optimize function\n",
    "\n",
    "        # TODO: Train NN using the train_nn function\n",
    "\n",
    "        # TODO: Save inference data using helper.save_inference_samples\n",
    "        #  helper.save_inference_samples(runs_dir, data_dir, sess, image_shape, logits, keep_prob, input_image)\n",
    "\n",
    "        # OPTIONAL: Apply the trained model to a video\n",
    "\n",
    "\n",
    "if __name__ == '__main__':\n",
    "    run()\n"
   ]
  },
  {
   "cell_type": "code",
   "execution_count": null,
   "metadata": {},
   "outputs": [],
   "source": [
    "#         tf.saved_model.loader.load(sess, [vgg_tag], './data/vgg')#vgg_path)\n",
    "#         sess.graph.eval(something)\n",
    "        #     'dropout_1/Shape'\n",
    "#         test_tensor = sess.graph.get_tensor_by_name('layer7_out:0')\n",
    "#         print(test_tensor)\n",
    "#         print(tf.shape(test_tensor))\n",
    "#         print(sess.graph.get_tensor_by_name('dropout_1/Shape:0'))\n",
    "#         print(sess.graph.get_tensor_by_name('image_input:0'))\n",
    "\n",
    "#         test_tensor.get_shape()\n",
    "#         pprint(sess.graph.get_operations())\n",
    "#         print(sess.run('pool3', feed_dict))\n",
    "        #NOTA BENE: LAYERS ARE SELECTED TO BE 50% RES FROM ONE TO NEXT\n",
    "        # BUT COULD DO BELOW TO FIND OUT AND AUTOGEN UPSAMPLING RATIOS\n",
    "#         pprint(sess.run('image_input:0', feed_dict).shape)\n",
    "#         pprint(sess.run('layer3_out:0', feed_dict).shape)\n",
    "#         pprint(sess.run('layer4_out:0', feed_dict).shape)\n",
    "#         pprint(sess.run('layer7_out:0', feed_dict).shape)"
   ]
  },
  {
   "cell_type": "code",
   "execution_count": null,
   "metadata": {},
   "outputs": [],
   "source": [
    "!! pwd"
   ]
  },
  {
   "cell_type": "code",
   "execution_count": null,
   "metadata": {},
   "outputs": [],
   "source": [
    "!! ls ./data/vgg"
   ]
  },
  {
   "cell_type": "code",
   "execution_count": null,
   "metadata": {},
   "outputs": [],
   "source": []
  }
 ],
 "metadata": {
  "kernelspec": {
   "display_name": "Python 3",
   "language": "python",
   "name": "python3"
  },
  "language_info": {
   "codemirror_mode": {
    "name": "ipython",
    "version": 3
   },
   "file_extension": ".py",
   "mimetype": "text/x-python",
   "name": "python",
   "nbconvert_exporter": "python",
   "pygments_lexer": "ipython3",
   "version": "3.5.2"
  }
 },
 "nbformat": 4,
 "nbformat_minor": 2
}
